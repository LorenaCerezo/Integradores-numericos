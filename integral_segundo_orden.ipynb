{
 "cells": [
  {
   "cell_type": "markdown",
   "metadata": {},
   "source": [
    "Para obtener un mejor resultado en la integración es mejor usar la aproximación de segundo orden y con varias variables. como vimos en clase:\n",
    "$$\n",
    "\\vec y_{n+1} = \\vec y_n +h\\vec f+ \\frac{1}{2}h² \\left(\n",
    "\\frac{\\partial \\vec f}{\\partial x} + \\mathbb{J}\\vec f\n",
    "\\right)\n",
    "$$\n",
    "donde $f$ es $f(x_n, \\vec y_n)$, $\\mathbb{J}$ es el Jacobiano evaluado en este punto. $(x_n, \\vec y_n)$ y el orden del error es de $O(h²)$"
   ]
  },
  {
   "cell_type": "code",
   "execution_count": null,
   "metadata": {
    "collapsed": true
   },
   "outputs": [],
   "source": []
  },
  {
   "cell_type": "code",
   "execution_count": 3,
   "metadata": {
    "collapsed": true
   },
   "outputs": [],
   "source": [
    "from pylab import *\n",
    "%matplotlib inline"
   ]
  },
  {
   "cell_type": "markdown",
   "metadata": {
    "collapsed": true
   },
   "source": [
    "def integra2(f,jac,p_ini,x,h=0.1): \n",
    "    jn1=yn + (h*f) + ((0.5)*h*h(jac[0] + dot(jac[1],f)))\n",
    "    "
   ]
  },
  {
   "cell_type": "markdown",
   "metadata": {},
   "source": [
    "1. para programar, debemos poner las condiciones iniciales y saber como se usa el array en pylab\n",
    "matrix no es una matriz, es un arreglo bidimensional y no funciona igual, es mas bien visto como un conjunto de arreglos."
   ]
  },
  {
   "cell_type": "code",
   "execution_count": 4,
   "metadata": {
    "collapsed": false
   },
   "outputs": [
    {
     "name": "stdout",
     "output_type": "stream",
     "text": [
      "[2 6] [2, 6]\n",
      "[ 4 12] [2, 6, 2, 6]\n"
     ]
    }
   ],
   "source": [
    "a=array([2,6])\n",
    "b=[2,6]\n",
    "print a,b\n",
    "print 2*a, 2*b"
   ]
  },
  {
   "cell_type": "code",
   "execution_count": 5,
   "metadata": {
    "collapsed": false
   },
   "outputs": [
    {
     "name": "stdout",
     "output_type": "stream",
     "text": [
      "[[1 0]\n",
      " [0 1]] 0\n",
      "[[1 0]\n",
      " [0 1]]\n",
      "[[2 0]\n",
      " [0 6]]\n",
      "[[2 6]]\n",
      "1\n"
     ]
    }
   ],
   "source": [
    "A= array([[1,0],[0,1]]) #un vector visto com arreglo\n",
    "B= matrix([[1,0],[0,1]])#una matriz vista como una matriz\n",
    "print A , A[0,1]\n",
    "\n",
    "print B\n",
    "\n",
    "print A*b\n",
    "\n",
    "print dot(B,b)   #matriz-arreglo no funciona\n",
    "print len(dot(B,b))"
   ]
  },
  {
   "cell_type": "code",
   "execution_count": 6,
   "metadata": {
    "collapsed": false
   },
   "outputs": [
    {
     "name": "stdout",
     "output_type": "stream",
     "text": [
      "1 2 3 4\n",
      "[[ 6 14]\n",
      " [18 28]]\n",
      "[20 46]\n"
     ]
    }
   ],
   "source": [
    "A= array([[1,2],[3,4]]) #matriz vista como arreglo\n",
    "a= array([6,7]) #vector visto como arreglo\n",
    "print A[0,0],A[0,1],A[1,0],A[1,1]\n",
    "print A*a\n",
    "print dot(A,a) #si se puede"
   ]
  },
  {
   "cell_type": "code",
   "execution_count": 7,
   "metadata": {
    "collapsed": false
   },
   "outputs": [
    {
     "name": "stdout",
     "output_type": "stream",
     "text": [
      "[[ 0.  0.  0.  0.  0.  0.]\n",
      " [ 0.  0.  0.  0.  0.  0.]]\n",
      "[[ 0.  9.  0.  0.  0.  0.]\n",
      " [ 0.  3.  0.  0.  0.  0.]]\n",
      "[ 9.  3.]\n",
      "[  0.  24.   0.   0.   0.   0.]\n",
      "<type 'numpy.ndarray'>\n"
     ]
    }
   ],
   "source": [
    "x=zeros((2,6))\n",
    "print x\n",
    "x[1,1]=3\n",
    "x[0,1]=9\n",
    "print x\n",
    "print x[:,1]\n",
    "print x[1,:]*8\n",
    "print type(x[1,:])"
   ]
  },
  {
   "cell_type": "markdown",
   "metadata": {
    "collapsed": true
   },
   "source": [
    "$31$ de Agosto\\\n",
    "\n",
    "ahora si, definamos la función\n"
   ]
  },
  {
   "cell_type": "code",
   "execution_count": 8,
   "metadata": {
    "collapsed": false
   },
   "outputs": [
    {
     "data": {
      "text/plain": [
       "[<matplotlib.lines.Line2D at 0x7f421f5a9450>,\n",
       " <matplotlib.lines.Line2D at 0x7f421f5a9650>]"
      ]
     },
     "execution_count": 8,
     "metadata": {},
     "output_type": "execute_result"
    },
    {
     "data": {
      "image/png": "[encoded data removed]",
      "text/plain": [
       "<matplotlib.figure.Figure at 0x7f42219e7590>"
      ]
     },
     "metadata": {},
     "output_type": "display_data"
    }
   ],
   "source": [
    "def integral2(ec,d_ec,p_ini,x,h=0.1):\n",
    "    #f=ec(p_ini)\n",
    "    #df=d_ec(p_ini)[0]\n",
    "    #Jac=d_ec(p_ini)[0]\n",
    "    tiempos=arange(x[0],x[1]+h,h)\n",
    "    \n",
    "    sol=zeros((len(tiempos),len(p_ini)))\n",
    "    sol[0,:]=p_ini\n",
    "    \n",
    "    for i in xrange(len(tiempos)-1):\n",
    "        f=ec(sol[i,:],tiempos[i])\n",
    "        sol[i+1,:]=sol[i,:]+h*f\n",
    "    #jn1=yn+(h*f)+(0.5*h*h*(Jac[0]+dot(Jac[1],f)))\n",
    "    return tiempos,sol\n",
    "\n",
    "def prueba(y,t):\n",
    "    return array(y)\n",
    "\n",
    "t,y=integral2(prueba,0,[1],[0,1])\n",
    "plot(t,y,t,exp(t))\n",
    "    \n",
    "    "
   ]
  },
  {
   "cell_type": "code",
   "execution_count": 9,
   "metadata": {
    "collapsed": false
   },
   "outputs": [
    {
     "name": "stdout",
     "output_type": "stream",
     "text": [
      "[[  1.           0.        ]\n",
      " [  1.          -0.1       ]\n",
      " [  0.99        -0.2       ]\n",
      " ..., \n",
      " [  9.6225874    7.0232463 ]\n",
      " [ 10.32491203   6.06098756]\n",
      " [ 10.93101079   5.02849635]]\n"
     ]
    },
    {
     "data": {
      "text/plain": [
       "[<matplotlib.lines.Line2D at 0x7f42219e2090>]"
      ]
     },
     "execution_count": 9,
     "metadata": {},
     "output_type": "execute_result"
    },
    {
     "data": {
      "image/png": "[encoded data removed]",
      "text/plain": [
       "<matplotlib.figure.Figure at 0x7f424aa81550>"
      ]
     },
     "metadata": {},
     "output_type": "display_data"
    }
   ],
   "source": [
    "def integral2(ec,d_ec,p_ini,x,h=0.1):\n",
    "    #f=ec(p_ini)\n",
    "    #df=d_ec(p_ini)[0]\n",
    "    #Jac=d_ec(p_ini)[0]\n",
    "    tiempos=arange(x[0],x[1]+h,h)\n",
    "    \n",
    "    sol=zeros((len(tiempos),len(p_ini)))\n",
    "    sol[0,:]=p_ini\n",
    "    \n",
    "    for i in xrange(len(tiempos)-1):\n",
    "        f=ec(sol[i,:],tiempos[i])\n",
    "        sol[i+1,:]=sol[i,:]+h*f\n",
    "    #jn1=yn+(h*f)+(0.5*h*h*(Jac[0]+dot(Jac[1],f)))\n",
    "    return tiempos,sol\n",
    "\n",
    "def prueba(y,t):\n",
    "    return array([y[1],-y[0]])\n",
    "\n",
    "t,y=integral2(prueba,0,[1,0],[0,50],0.1)\n",
    "print y\n",
    "plot(t,y[:,0],t,cos(t))\n",
    "plot(y[:,0],y[:,1])"
   ]
  },
  {
   "cell_type": "code",
   "execution_count": 10,
   "metadata": {
    "collapsed": false
   },
   "outputs": [],
   "source": [
    "def integral2(ec,d_ec,p_ini,x,h=0.1):\n",
    "   \n",
    "    tiempos=arange(x[0],x[1]+h,h)\n",
    "    \n",
    "    sol=zeros((len(tiempos),len(p_ini)))\n",
    "    sol[0,:]=p_ini\n",
    "    for i in xrange(len(tiempos)-1):\n",
    "   \n",
    "        f=ec(sol[i,:],tiempos[i])\n",
    "        df,Jac =d_ec(sol[i,:],tiempos[i])\n",
    "        sol[i+1,:]=sol[i,:]+h*f+(0.5*h*h*(df+dot(Jac,f)))\n",
    "\n",
    "    return tiempos,sol\n",
    "\n",
    "def prueba(y,t):\n",
    "    return array([y[1],-y[0]])\n",
    "\n",
    "def d_prueba(y,t):\n",
    "    return array([0,0]),array([[0,1],[-1,0]])\n",
    "\n",
    "t,y=integral2(prueba,d_prueba,[1,0],[0,50],0.1)\n",
    "\n",
    "\n"
   ]
  },
  {
   "cell_type": "code",
   "execution_count": 11,
   "metadata": {
    "collapsed": false
   },
   "outputs": [
    {
     "data": {
      "text/plain": [
       "[<matplotlib.lines.Line2D at 0x7f421f1f58d0>]"
      ]
     },
     "execution_count": 11,
     "metadata": {},
     "output_type": "execute_result"
    },
    {
     "data": {
      "image/png": "[encoded data removed]",
      "text/plain": [
       "<matplotlib.figure.Figure at 0x7f42219e7310>"
      ]
     },
     "metadata": {},
     "output_type": "display_data"
    }
   ],
   "source": [
    "def p(y,t):\n",
    "    return array([y[1],-2*y[1]-0.5*sin(y[0])+cos(t)])\n",
    "  \n",
    "def dp(y,t):\n",
    "    return array([0,cos(t)]), array([[0,1],[-0.5*cos(y[0]),-2]])\n",
    "\n",
    "t,y=integral2(p,dp,[1,0],[0,50],0.1)\n",
    "plot(y[:,0],y[:,1])\n"
   ]
  },
  {
   "cell_type": "code",
   "execution_count": 12,
   "metadata": {
    "collapsed": false
   },
   "outputs": [
    {
     "data": {
      "text/plain": [
       "[<matplotlib.lines.Line2D at 0x7f421f125590>]"
      ]
     },
     "execution_count": 12,
     "metadata": {},
     "output_type": "execute_result"
    },
    {
     "data": {
      "image/png": "[encoded data removed]",
      "text/plain": [
       "<matplotlib.figure.Figure at 0x7f421f1abb50>"
      ]
     },
     "metadata": {},
     "output_type": "display_data"
    }
   ],
   "source": [
    "def p(y,t):\n",
    "    return array([y[1],-2*y[1]-0.5*sin(y[0])])\n",
    "  \n",
    "def dp(y,t):\n",
    "    return array([0,0]), array([[0,1],[-0.5*cos(y[0]),-2]])\n",
    "\n",
    "t,y=integral2(p,dp,[1,0],[0,50],0.1)\n",
    "plot(y[:,0],y[:,1])"
   ]
  },
  {
   "cell_type": "code",
   "execution_count": 13,
   "metadata": {
    "collapsed": true
   },
   "outputs": [],
   "source": [
    "def rk2(ec,p_ini,x,h=0.1):\n",
    "    tiempos = arange(x[0],x[1]+h,h)\n",
    "    sol = zeros((len(tiempos),len(p_ini)))\n",
    "    sol[0,:] = p_ini\n",
    "    for i in xrange(len(tiempos)-1):\n",
    "        k = h*ec(sol[i,:],tiempos[i])\n",
    "        f = ec(sol[i,:]+0.5*k,tiempos[i]+0.5*h)\n",
    "        sol[i+1,:]=sol[i,:]+h*f\n",
    "    return tiempos,sol"
   ]
  },
  {
   "cell_type": "code",
   "execution_count": 14,
   "metadata": {
    "collapsed": false
   },
   "outputs": [
    {
     "data": {
      "text/plain": [
       "[<matplotlib.lines.Line2D at 0x7f421f0ca190>]"
      ]
     },
     "execution_count": 14,
     "metadata": {},
     "output_type": "execute_result"
    },
    {
     "data": {
      "image/png": "[encoded data removed]",
      "text/plain": [
       "<matplotlib.figure.Figure at 0x7f42219d2610>"
      ]
     },
     "metadata": {},
     "output_type": "display_data"
    }
   ],
   "source": [
    "t,y = rk2(p,[1,0],[0,50],0.01)\n",
    "plot(y[:,1],y[:,0])  \n"
   ]
  },
  {
   "cell_type": "code",
   "execution_count": null,
   "metadata": {
    "collapsed": true
   },
   "outputs": [],
   "source": []
  },
  {
   "cell_type": "code",
   "execution_count": null,
   "metadata": {
    "collapsed": true
   },
   "outputs": [],
   "source": []
  },
  {
   "cell_type": "code",
   "execution_count": null,
   "metadata": {
    "collapsed": true
   },
   "outputs": [],
   "source": []
  },
  {
   "cell_type": "code",
   "execution_count": null,
   "metadata": {
    "collapsed": true
   },
   "outputs": [],
   "source": []
  },
  {
   "cell_type": "code",
   "execution_count": null,
   "metadata": {
    "collapsed": true
   },
   "outputs": [],
   "source": []
  }
 ],
 "metadata": {
  "kernelspec": {
   "display_name": "Python [Root]",
   "language": "python",
   "name": "Python [Root]"
  },
  "language_info": {
   "codemirror_mode": {
    "name": "ipython",
    "version": 2
   },
   "file_extension": ".py",
   "mimetype": "text/x-python",
   "name": "python",
   "nbconvert_exporter": "python",
   "pygments_lexer": "ipython2",
   "version": "2.7.12"
  }
 },
 "nbformat": 4,
 "nbformat_minor": 0
}
