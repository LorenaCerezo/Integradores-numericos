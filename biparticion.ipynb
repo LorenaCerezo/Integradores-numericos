{
 "cells": [
  {
   "cell_type": "code",
   "execution_count": 121,
   "metadata": {
    "collapsed": true
   },
   "outputs": [],
   "source": [
    "from pylab import *\n",
    "%matplotlib inline\n",
    "from numpy import *\n"
   ]
  },
  {
   "cell_type": "code",
   "execution_count": 122,
   "metadata": {
    "collapsed": false
   },
   "outputs": [],
   "source": [
    "def raiz_bip(func,x_i,x_d,err=1e-8):\n",
    "    raiz = 0.5*(x_i+x_d)\n",
    "    y_i,y_d = func(x_i),func(x_d)\n",
    "    n = 0\n",
    "    while abs(y_d)>=err:\n",
    "        y_m = func(raiz)\n",
    "        if y_m == 0.:\n",
    "            print \"chin, le atine :D\"\n",
    "            break\n",
    "        if y_m * y_i < 0:\n",
    "            x_d = raiz\n",
    "        else:\n",
    "            x_i = raiz\n",
    "        raiz = 0.5*(x_i+x_d)\n",
    "        y_i,y_d=func(x_i),func(x_d)\n",
    "        n += 1\n",
    "        print n, \"\\t\", raiz\n",
    "    return raiz\n",
    "            \n",
    "    "
   ]
  },
  {
   "cell_type": "code",
   "execution_count": 123,
   "metadata": {
    "collapsed": true
   },
   "outputs": [],
   "source": [
    "def mi_newton_1(func,d_func,x_ini,err=1e-8):\n",
    "    n=0\n",
    "    while abs(func(x_ini)) >= err:\n",
    "        print n,\"\\t\",x_ini\n",
    "        raiz = x_ini - func(x_ini)/d_func(x_ini)\n",
    "        x_ini = raiz\n",
    "        n += 1\n",
    "    return raiz    "
   ]
  },
  {
   "cell_type": "code",
   "execution_count": 124,
   "metadata": {
    "collapsed": false
   },
   "outputs": [
    {
     "name": "stdout",
     "output_type": "stream",
     "text": [
      "0 \t2\n",
      "1 \t4.18503986326\n",
      "2 \t2.46789367451\n",
      "3 \t3.26618627757\n",
      "4 \t3.14094391232\n",
      "3.14159265368\n"
     ]
    }
   ],
   "source": [
    "print mi_newton_1(sin,cos,2)"
   ]
  },
  {
   "cell_type": "code",
   "execution_count": 125,
   "metadata": {
    "collapsed": false
   },
   "outputs": [
    {
     "ename": "TypeError",
     "evalue": "'numpy.ndarray' object is not callable",
     "output_type": "error",
     "traceback": [
      "\u001b[1;31m---------------------------------------------------------------------------\u001b[0m",
      "\u001b[1;31mTypeError\u001b[0m                                 Traceback (most recent call last)",
      "\u001b[1;32m<ipython-input-125-13d4c6420ee6>\u001b[0m in \u001b[0;36m<module>\u001b[1;34m()\u001b[0m\n\u001b[1;32m----> 1\u001b[1;33m \u001b[1;32mprint\u001b[0m \u001b[0mraiz_bip\u001b[0m\u001b[1;33m(\u001b[0m\u001b[0msin\u001b[0m\u001b[1;33m(\u001b[0m\u001b[0mx\u001b[0m\u001b[1;33m)\u001b[0m\u001b[1;33m,\u001b[0m\u001b[0mcos\u001b[0m\u001b[1;33m(\u001b[0m\u001b[0mx\u001b[0m\u001b[1;33m)\u001b[0m\u001b[1;33m,\u001b[0m\u001b[1;36m2\u001b[0m\u001b[1;33m)\u001b[0m\u001b[1;33m\u001b[0m\u001b[0m\n\u001b[0m",
      "\u001b[1;32m<ipython-input-122-82dc4d30dde7>\u001b[0m in \u001b[0;36mraiz_bip\u001b[1;34m(func, x_i, x_d, err)\u001b[0m\n\u001b[0;32m      1\u001b[0m \u001b[1;32mdef\u001b[0m \u001b[0mraiz_bip\u001b[0m\u001b[1;33m(\u001b[0m\u001b[0mfunc\u001b[0m\u001b[1;33m,\u001b[0m\u001b[0mx_i\u001b[0m\u001b[1;33m,\u001b[0m\u001b[0mx_d\u001b[0m\u001b[1;33m,\u001b[0m\u001b[0merr\u001b[0m\u001b[1;33m=\u001b[0m\u001b[1;36m1e-8\u001b[0m\u001b[1;33m)\u001b[0m\u001b[1;33m:\u001b[0m\u001b[1;33m\u001b[0m\u001b[0m\n\u001b[0;32m      2\u001b[0m     \u001b[0mraiz\u001b[0m \u001b[1;33m=\u001b[0m \u001b[1;36m0.5\u001b[0m\u001b[1;33m*\u001b[0m\u001b[1;33m(\u001b[0m\u001b[0mx_i\u001b[0m\u001b[1;33m+\u001b[0m\u001b[0mx_d\u001b[0m\u001b[1;33m)\u001b[0m\u001b[1;33m\u001b[0m\u001b[0m\n\u001b[1;32m----> 3\u001b[1;33m     \u001b[0my_i\u001b[0m\u001b[1;33m,\u001b[0m\u001b[0my_d\u001b[0m \u001b[1;33m=\u001b[0m \u001b[0mfunc\u001b[0m\u001b[1;33m(\u001b[0m\u001b[0mx_i\u001b[0m\u001b[1;33m)\u001b[0m\u001b[1;33m,\u001b[0m\u001b[0mfunc\u001b[0m\u001b[1;33m(\u001b[0m\u001b[0mx_d\u001b[0m\u001b[1;33m)\u001b[0m\u001b[1;33m\u001b[0m\u001b[0m\n\u001b[0m\u001b[0;32m      4\u001b[0m     \u001b[0mn\u001b[0m \u001b[1;33m=\u001b[0m \u001b[1;36m0\u001b[0m\u001b[1;33m\u001b[0m\u001b[0m\n\u001b[0;32m      5\u001b[0m     \u001b[1;32mwhile\u001b[0m \u001b[0mabs\u001b[0m\u001b[1;33m(\u001b[0m\u001b[0my_d\u001b[0m\u001b[1;33m)\u001b[0m\u001b[1;33m>=\u001b[0m\u001b[0merr\u001b[0m\u001b[1;33m:\u001b[0m\u001b[1;33m\u001b[0m\u001b[0m\n",
      "\u001b[1;31mTypeError\u001b[0m: 'numpy.ndarray' object is not callable"
     ]
    }
   ],
   "source": [
    "print raiz_bip(sin(x),cos(x),2)"
   ]
  },
  {
   "cell_type": "code",
   "execution_count": 126,
   "metadata": {
    "collapsed": false
   },
   "outputs": [
    {
     "data": {
      "image/png": "[encoded data removed]",
      "text/plain": [
       "<matplotlib.figure.Figure at 0x7efe17faed10>"
      ]
     },
     "metadata": {},
     "output_type": "display_data"
    }
   ],
   "source": [
    "x=linspace(-10,10)\n",
    "plot(x,sin(x))\n",
    "grid(True)\n",
    "show()\n"
   ]
  },
  {
   "cell_type": "code",
   "execution_count": 127,
   "metadata": {
    "collapsed": false
   },
   "outputs": [
    {
     "data": {
      "text/plain": [
       "0.84147098477655891"
      ]
     },
     "execution_count": 127,
     "metadata": {},
     "output_type": "execute_result"
    }
   ],
   "source": [
    "sin(0.999999999942)"
   ]
  },
  {
   "cell_type": "code",
   "execution_count": 128,
   "metadata": {
    "collapsed": true
   },
   "outputs": [],
   "source": [
    "def una_funcion(x):\n",
    "    return (x-1)**5\n",
    "def d_una_funcion(x):\n",
    "    return 5*(x-1)**4"
   ]
  },
  {
   "cell_type": "code",
   "execution_count": 129,
   "metadata": {
    "collapsed": false
   },
   "outputs": [
    {
     "data": {
      "image/png": "[encoded data removed]",
      "text/plain": [
       "<matplotlib.figure.Figure at 0x7efe1515da50>"
      ]
     },
     "metadata": {},
     "output_type": "display_data"
    }
   ],
   "source": [
    "x=linspace(0,2)\n",
    "plot(x,una_funcion(x))\n",
    "show()"
   ]
  },
  {
   "cell_type": "code",
   "execution_count": 130,
   "metadata": {
    "collapsed": false
   },
   "outputs": [
    {
     "name": "stdout",
     "output_type": "stream",
     "text": [
      "chin, le atine :D\n"
     ]
    },
    {
     "data": {
      "text/plain": [
       "1.0"
      ]
     },
     "execution_count": 130,
     "metadata": {},
     "output_type": "execute_result"
    }
   ],
   "source": [
    "raiz_bip(una_funcion,0,2)"
   ]
  },
  {
   "cell_type": "code",
   "execution_count": 131,
   "metadata": {
    "collapsed": false
   },
   "outputs": [
    {
     "name": "stdout",
     "output_type": "stream",
     "text": [
      "0\n",
      "1\n",
      "2\n",
      "3\n",
      "4\n",
      "5\n"
     ]
    }
   ],
   "source": [
    "for i in range (10):\n",
    "    print i\n",
    "    if i == 5:\n",
    "        break"
   ]
  },
  {
   "cell_type": "code",
   "execution_count": 132,
   "metadata": {
    "collapsed": false
   },
   "outputs": [
    {
     "name": "stdout",
     "output_type": "stream",
     "text": [
      "0 \t0.1\n",
      "1 \t0.28\n",
      "2 \t0.424\n",
      "3 \t0.5392\n",
      "4 \t0.63136\n",
      "5 \t0.705088\n",
      "6 \t0.7640704\n",
      "7 \t0.81125632\n",
      "8 \t0.849005056\n",
      "9 \t0.8792040448\n",
      "10 \t0.90336323584\n",
      "11 \t0.922690588672\n",
      "12 \t0.938152470938\n",
      "13 \t0.95052197675\n",
      "14 \t0.9604175814\n",
      "15 \t0.96833406512\n",
      "16 \t0.974667252096\n",
      "0.979733801677\n"
     ]
    }
   ],
   "source": [
    "print mi_newton_1(una_funcion,d_una_funcion,.1)\n"
   ]
  },
  {
   "cell_type": "code",
   "execution_count": 143,
   "metadata": {
    "collapsed": true
   },
   "outputs": [],
   "source": [
    "def num_dev(f,x,h=1e-4):\n",
    "    return (f(x+h)-f(x-h))/(2.*h)"
   ]
  },
  {
   "cell_type": "code",
   "execution_count": 134,
   "metadata": {
    "collapsed": true
   },
   "outputs": [],
   "source": [
    "def fun_de_alumno(x):\n",
    "    return x**2 + tan(sqrt(-8*x + pi))**3\n",
    "def d_fun_de_alumno(x):\n",
    "    return 2*x - 12*(tan(sqrt(-8*x + pi))**2 + 1)*tan(sqrt(-8*x + pi))**2/sqrt(-8*x + pi)"
   ]
  },
  {
   "cell_type": "code",
   "execution_count": 135,
   "metadata": {
    "collapsed": false
   },
   "outputs": [
    {
     "data": {
      "image/png": "[encoded data removed]",
      "text/plain": [
       "<matplotlib.figure.Figure at 0x7efe1579f050>"
      ]
     },
     "metadata": {},
     "output_type": "display_data"
    }
   ],
   "source": [
    "x=linspace(-5,0,100)\n",
    "ylim([-30,30])\n",
    "grid(True)\n",
    "plot(x,fun_de_alumno(x),'-')\n",
    "plot([-2.94267812781],[0],'o')\n",
    "plot([-2.94267812758],[0],'x',markersize=20)\n",
    "plot([-0.456490401421],[0],'o')\n",
    "plot([-0.456490400596],[0],'x',markersize=20)\n",
    "show()"
   ]
  },
  {
   "cell_type": "code",
   "execution_count": 136,
   "metadata": {
    "collapsed": false
   },
   "outputs": [
    {
     "name": "stdout",
     "output_type": "stream",
     "text": [
      "1 \t-2.95\n",
      "2 \t-2.925\n",
      "3 \t-2.9375\n",
      "4 \t-2.94375\n",
      "5 \t-2.940625\n",
      "6 \t-2.9421875\n",
      "7 \t-2.94296875\n",
      "8 \t-2.942578125\n",
      "9 \t-2.9427734375\n",
      "10 \t-2.94267578125\n",
      "11 \t-2.94272460938\n",
      "12 \t-2.94270019531\n",
      "13 \t-2.94268798828\n",
      "14 \t-2.94268188477\n",
      "15 \t-2.94267883301\n",
      "16 \t-2.94267730713\n",
      "17 \t-2.94267807007\n",
      "18 \t-2.94267845154\n",
      "19 \t-2.9426782608\n",
      "20 \t-2.94267816544\n",
      "21 \t-2.94267811775\n",
      "22 \t-2.94267814159\n",
      "23 \t-2.94267812967\n",
      "24 \t-2.94267812371\n",
      "25 \t-2.94267812669\n",
      "26 \t-2.94267812818\n",
      "27 \t-2.94267812744\n",
      "28 \t-2.94267812781\n",
      "-2.94267812781\n"
     ]
    }
   ],
   "source": [
    "print raiz_bip(fun_de_alumno,-3,-2.8)"
   ]
  },
  {
   "cell_type": "code",
   "execution_count": 137,
   "metadata": {
    "collapsed": false
   },
   "outputs": [
    {
     "name": "stdout",
     "output_type": "stream",
     "text": [
      "1 \t-0.2575\n",
      "2 \t-0.38125\n",
      "3 \t-0.443125\n",
      "4 \t-0.4740625\n",
      "5 \t-0.45859375\n",
      "6 \t-0.450859375\n",
      "7 \t-0.4547265625\n",
      "8 \t-0.45666015625\n",
      "9 \t-0.455693359375\n",
      "10 \t-0.456176757812\n",
      "11 \t-0.456418457031\n",
      "12 \t-0.456539306641\n",
      "13 \t-0.456478881836\n",
      "14 \t-0.456509094238\n",
      "15 \t-0.456493988037\n",
      "16 \t-0.456486434937\n",
      "17 \t-0.456490211487\n",
      "18 \t-0.456492099762\n",
      "19 \t-0.456491155624\n",
      "20 \t-0.456490683556\n",
      "21 \t-0.456490447521\n",
      "22 \t-0.456490329504\n",
      "23 \t-0.456490388513\n",
      "24 \t-0.456490418017\n",
      "25 \t-0.456490403265\n",
      "26 \t-0.456490395889\n",
      "27 \t-0.456490399577\n",
      "28 \t-0.456490401421\n",
      "-0.456490401421\n"
     ]
    }
   ],
   "source": [
    "print raiz_bip(fun_de_alumno,-1,-.01)"
   ]
  },
  {
   "cell_type": "code",
   "execution_count": 138,
   "metadata": {
    "collapsed": false
   },
   "outputs": [
    {
     "name": "stdout",
     "output_type": "stream",
     "text": [
      "0 \t-3\n",
      "1 \t-2.9318062049\n",
      "2 \t-2.94229732506\n",
      "3 \t-2.94267765788\n",
      "-2.94267812758\n"
     ]
    }
   ],
   "source": [
    "print mi_newton_1(fun_de_alumno,d_fun_de_alumno,-3)"
   ]
  },
  {
   "cell_type": "code",
   "execution_count": 139,
   "metadata": {
    "collapsed": false
   },
   "outputs": [
    {
     "name": "stdout",
     "output_type": "stream",
     "text": [
      "0 \t-1\n",
      "1 \t-0.530746877804\n",
      "2 \t-0.442008460789\n",
      "3 \t-0.455854364862\n",
      "4 \t-0.456489188197\n",
      "-0.456490400596\n"
     ]
    }
   ],
   "source": [
    "print mi_newton_1(fun_de_alumno,d_fun_de_alumno,-1)"
   ]
  },
  {
   "cell_type": "code",
   "execution_count": 140,
   "metadata": {
    "collapsed": false
   },
   "outputs": [
    {
     "name": "stdout",
     "output_type": "stream",
     "text": [
      "0 \t1.56079632679\n",
      "1 \t-98.4358703176\n",
      "2 \t-96.706614104\n",
      "3 \t-97.5198474962\n",
      "4 \t-97.3886267904\n",
      "-97.3893722614\n",
      "0 \t1.58079632679\n",
      "1 \t101.577462971\n",
      "2 \t99.8482067576\n",
      "3 \t100.66144015\n",
      "4 \t100.530219444\n",
      "100.530964915\n"
     ]
    }
   ],
   "source": [
    "print mi_newton_1(sin,cos,pi/2-0.01)\n",
    "print mi_newton_1(sin,cos,pi/2+0.01)"
   ]
  },
  {
   "cell_type": "code",
   "execution_count": 144,
   "metadata": {
    "collapsed": false
   },
   "outputs": [],
   "source": [
    "def mi_newton_2(func,x_ini,err=1e-8):\n",
    "    n=0\n",
    "    while abs(func(x_ini)) >= err:\n",
    "        print n,\"\\t\",x_ini\n",
    "        raiz = x_ini - func(x_ini)/num_dev(func,x_ini)\n",
    "        x_ini = raiz\n",
    "        n += 1\n",
    "    return raiz"
   ]
  },
  {
   "cell_type": "code",
   "execution_count": 145,
   "metadata": {
    "collapsed": false
   },
   "outputs": [
    {
     "name": "stdout",
     "output_type": "stream",
     "text": [
      "0 \t1.67079632679\n",
      "1 \t11.6374407667\n",
      "2 \t12.9753246623\n",
      "3 \t12.5419364293\n",
      "4 \t12.5663754782\n",
      "12.5663706144\n",
      "12.5663706144\n"
     ]
    }
   ],
   "source": [
    "print mi_newton_2(sin,pi/2+0.1)\n",
    "print 4*pi\n"
   ]
  },
  {
   "cell_type": "code",
   "execution_count": 147,
   "metadata": {
    "collapsed": false
   },
   "outputs": [],
   "source": [
    "def num_dev_mejorado(f,x,h=1e-4):\n",
    "    return (-f(x+2*h)+8*f(x+h)-8*f(x-h)+f(x-2*h))/(12.*h)\n"
   ]
  },
  {
   "cell_type": "code",
   "execution_count": 152,
   "metadata": {
    "collapsed": false
   },
   "outputs": [
    {
     "name": "stdout",
     "output_type": "stream",
     "text": [
      "0.707106781187 0.923879532511\n",
      "0.707106780008 0.923879530972\n",
      "0.707106781186 0.923879532511\n"
     ]
    }
   ],
   "source": [
    "a=pi/4\n",
    "b=pi/8\n",
    "print cos(a),cos(b)\n",
    "print num_dev(sin,a),num_dev(sin,b)\n",
    "print num_dev_mejorado(sin,a),num_dev_mejorado(sin,b)"
   ]
  },
  {
   "cell_type": "code",
   "execution_count": null,
   "metadata": {
    "collapsed": true
   },
   "outputs": [],
   "source": []
  }
 ],
 "metadata": {
  "kernelspec": {
   "display_name": "Python [Root]",
   "language": "python",
   "name": "Python [Root]"
  },
  "language_info": {
   "codemirror_mode": {
    "name": "ipython",
    "version": 2
   },
   "file_extension": ".py",
   "mimetype": "text/x-python",
   "name": "python",
   "nbconvert_exporter": "python",
   "pygments_lexer": "ipython2",
   "version": "2.7.12"
  }
 },
 "nbformat": 4,
 "nbformat_minor": 0
}
