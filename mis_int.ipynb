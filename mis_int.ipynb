{
 "cells": [
  {
   "cell_type": "code",
   "execution_count": 1,
   "metadata": {
    "collapsed": false
   },
   "outputs": [],
   "source": [
    "\n",
    "def integra2(ec,d_ec,p_ini,x,h=0.1):\n",
    "    tiempos = arange(x[0],x[1]+h,h)\n",
    "    sol = zeros((len(tiempos),len(p_ini)))\n",
    "    sol[0,:] = p_ini\n",
    "    for i in xrange(len(tiempos)-1):\n",
    "        f = ec(sol[i,:],tiempos[i])\n",
    "        df,jac=d_ec(sol[i,:],tiempos[i])\n",
    "        sol[i+1,:]=sol[i,:]+h*f+(0.5*h*h*(df+dot(jac,f)))\n",
    "    return tiempos,sol\n",
    "\n",
    "def prueba(y,t):\n",
    "    return array([y[1],-y[0]])\n",
    "\n",
    "def d_prueba(y,t):\n",
    "    return array([0,0]),array([[0,1],[-1,0]])\n"
   ]
  },
  {
   "cell_type": "code",
   "execution_count": 2,
   "metadata": {
    "collapsed": true
   },
   "outputs": [],
   "source": [
    "def rk2(ec,p_ini,x,h=0.1):\n",
    "    tiempos = arange(x[0],x[1]+h,h)\n",
    "    sol = zeros((len(tiempos),len(p_ini)))\n",
    "    sol[0,:] = p_ini\n",
    "    for i in xrange(len(tiempos)-1):\n",
    "        k = h*ec(sol[i,:],tiempos[i])\n",
    "        f = ec(sol[i,:]+0.5*k,tiempos[i]+0.5*h)\n",
    "        sol[i+1,:]=sol[i,:]+h*f\n",
    "    return tiempos,sol"
   ]
  },
  {
   "cell_type": "code",
   "execution_count": 3,
   "metadata": {
    "collapsed": true
   },
   "outputs": [],
   "source": [
    "def segundo_orden1(ec_diff,p_ini,t_final,ec_jac,h=0.1):\n",
    "    tiempo=arange(0,t_final+h,h) #\n",
    "    y = zeros(len(tiempo))\n",
    "    y[0] = p_ini\n",
    "    for i in range(len(tiempo)-1):\n",
    "        y[i+1] = y[i] + h*ec_diff(y[i],tiempo[i])\n",
    "        y[i+1] +=  0.5*h*h*ec_jac(y[i],tiempo[i])[0]\n",
    "        y[i+1] +=  0.5*h*h*ec_jac(y[i],tiempo[i])[1]*ec_diff(y[i],tiempo[i])\n",
    "    return tiempo,y"
   ]
  },
  {
   "cell_type": "code",
   "execution_count": 4,
   "metadata": {
    "collapsed": true
   },
   "outputs": [],
   "source": [
    "def euler1(ec_diff,p_ini,t_final,h=0.01):\n",
    "    tiempo=arange(0,t_final+h,h)#\n",
    "    y = zeros(len(tiempo))\n",
    "    y[0] = p_ini\n",
    "    for i in range(len(tiempo)-1):\n",
    "        y[i+1]=y[i] + h*ec_diff(y[i],tiempo[i])\n",
    "\n",
    "    return tiempo,y"
   ]
  },
  {
   "cell_type": "code",
   "execution_count": 5,
   "metadata": {
    "collapsed": true
   },
   "outputs": [],
   "source": [
    "from pylab import *\n",
    "%matplotlib inline"
   ]
  },
  {
   "cell_type": "code",
   "execution_count": 6,
   "metadata": {
    "collapsed": true
   },
   "outputs": [],
   "source": [
    "def rk4(ec,p_ini,x,h=0.1):\n",
    "    tiempos = arange(x[0],x[1]+h,h)\n",
    "    sol = zeros((len(tiempos),len(p_ini)))\n",
    "    sol[0,:] = p_ini\n",
    "    for i in xrange(len(tiempos)-1):\n",
    "        k1 = ec(sol[i,:],tiempos[i])\n",
    "        k2 = ec(sol[i,:]+0.5*h*k1,tiempos[i]+0.5*h)\n",
    "        k3 = ec(sol[i,:]+0.5*h*k2,tiempos[i]+0.5*h)\n",
    "        k4 = ec(sol[i,:]+h*k3,tiempos[i]+h)\n",
    "        sol[i+1,:]=sol[i,:]+(h/6.)*(k1+2*k2+2*k3+k4)\n",
    "    return tiempos,sol"
   ]
  },
  {
   "cell_type": "code",
   "execution_count": null,
   "metadata": {
    "collapsed": true
   },
   "outputs": [],
   "source": []
  }
 ],
 "metadata": {
  "kernelspec": {
   "display_name": "Python [Root]",
   "language": "python",
   "name": "Python [Root]"
  },
  "language_info": {
   "codemirror_mode": {
    "name": "ipython",
    "version": 2
   },
   "file_extension": ".py",
   "mimetype": "text/x-python",
   "name": "python",
   "nbconvert_exporter": "python",
   "pygments_lexer": "ipython2",
   "version": "2.7.12"
  }
 },
 "nbformat": 4,
 "nbformat_minor": 0
}
